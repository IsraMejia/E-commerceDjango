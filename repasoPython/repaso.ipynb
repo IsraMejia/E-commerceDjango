{
 "cells": [
  {
   "cell_type": "markdown",
   "metadata": {},
   "source": [
    "# Repaso Completo de Python 🐍\n",
    "\n",
    "Este notebook contiene ejemplos prácticos de todos los conceptos fundamentales de Python basados en las hojas de trucos proporcionadas. Ejecuta cada celda para ver los resultados."
   ]
  },
  {
   "cell_type": "markdown",
   "metadata": {},
   "source": [
    "## 1. Tipos de Datos Base (Base Types)"
   ]
  },
  {
   "cell_type": "code",
   "execution_count": 5,
   "metadata": {},
   "outputs": [
    {
     "name": "stdout",
     "output_type": "stream",
     "text": [
      "Enteros: 10, 10, 10, 10\n",
      "Flotantes: 7.83, 9.23e-05\n",
      "Booleanos: True, False\n",
      "String simple: Hola Mundo\n",
      "String multilinea: \n",
      "Esta es una cadena\n",
      "que ocupa varias\n",
      "líneas.\n",
      "String escapado: Esta es una comilla simple ' escapada.\n",
      "String raw: C:\\Users\\nuevo_usuario\n",
      "Bytes: b'hola en bytes'\n"
     ]
    }
   ],
   "source": [
    "# --- Enteros (int) ---\n",
    "entero_decimal = 10\n",
    "entero_binario = 0b1010  # 10 en binario\n",
    "entero_octal = 0o12      # 10 en octal\n",
    "entero_hex = 0xA        # 10 en hexadecimal\n",
    "print(f\"Enteros: {entero_decimal}, {entero_binario}, {entero_octal}, {entero_hex}\")\n",
    "\n",
    "# --- Flotantes (float) ---\n",
    "flotante_simple = 7.83\n",
    "flotante_exponencial = 9.23e-5 # 0.0000923\n",
    "print(f\"Flotantes: {flotante_simple}, {flotante_exponencial}\")\n",
    "\n",
    "# --- Booleanos (bool) ---\n",
    "verdadero = True\n",
    "falso = False\n",
    "print(f\"Booleanos: {verdadero}, {falso}\")\n",
    "\n",
    "# --- Cadenas (str) ---\n",
    "string_simple = \"Hola Mundo\"\n",
    "string_multilinea = \"\"\"Esta es una cadena\n",
    "que ocupa varias\n",
    "líneas.\"\"\"\n",
    "string_escapado = 'Esta es una comilla simple \\' escapada.'\n",
    "string_raw = r\"C:\\Users\\nuevo_usuario\"\n",
    "print(f\"String simple: {string_simple}\")\n",
    "print(f\"String multilinea: \\n{string_multilinea}\")\n",
    "print(f\"String escapado: {string_escapado}\")\n",
    "print(f\"String raw: {string_raw}\")\n",
    "\n",
    "# --- Bytes ---\n",
    "cadena_bytes = b'hola en bytes'\n",
    "print(f\"Bytes: {cadena_bytes}\")"
   ]
  },
  {
   "cell_type": "markdown",
   "metadata": {},
   "source": [
    "## 2. Tipos Contenedores (Container Types)"
   ]
  },
  {
   "cell_type": "code",
   "execution_count": 6,
   "metadata": {},
   "outputs": [
    {
     "name": "stdout",
     "output_type": "stream",
     "text": [
      "Lista original: [1, 'dos', 3.0, True]\n",
      "Lista modificada: [1, 2, 3.0, True]\n",
      "Tupla: (1, 'dos', 3.0)\n",
      "Diccionario: {'llave1': 'valor1', 'numero': 2, 3: 'tres'}\n",
      "Valor de 'llave1': valor1\n",
      "Conjunto: {1, 2, 3}\n",
      "Contenedores vacíos: [], (), {}, set()\n"
     ]
    }
   ],
   "source": [
    "# --- Listas (list) - Mutables ---\n",
    "mi_lista = [1, \"dos\", 3.0, True]\n",
    "print(f\"Lista original: {mi_lista}\")\n",
    "mi_lista[1] = 2 # Las listas son mutables\n",
    "print(f\"Lista modificada: {mi_lista}\")\n",
    "\n",
    "# --- Tuplas (tuple) - Inmutables ---\n",
    "mi_tupla = (1, \"dos\", 3.0)\n",
    "tupla_un_elemento = (1,) # La coma es crucial\n",
    "print(f\"Tupla: {mi_tupla}\")\n",
    "# mi_tupla[1] = 2 # Esto daría un error: TypeError\n",
    "\n",
    "# --- Diccionarios (dict) - Mutables ---\n",
    "mi_diccionario = {\"llave1\": \"valor1\", \"numero\": 2, 3: \"tres\"}\n",
    "print(f\"Diccionario: {mi_diccionario}\")\n",
    "print(f\"Valor de 'llave1': {mi_diccionario['llave1']}\")\n",
    "\n",
    "# --- Conjuntos (set) - Mutables ---\n",
    "mi_conjunto = {1, 2, 3, 3, 2} # Los duplicados se eliminan\n",
    "print(f\"Conjunto: {mi_conjunto}\")\n",
    "\n",
    "# --- Contenedores Vacíos ---\n",
    "lista_vacia = []\n",
    "tupla_vacia = ()\n",
    "diccionario_vacio = {}\n",
    "conjunto_vacio = set() # ¡Ojo! {} crea un diccionario vacío\n",
    "print(f\"Contenedores vacíos: {lista_vacia}, {tupla_vacia}, {diccionario_vacio}, {conjunto_vacio}\")"
   ]
  },
  {
   "cell_type": "markdown",
   "metadata": {},
   "source": [
    "## 3. Asignación de Variables (Variables Assignment)"
   ]
  },
  {
   "cell_type": "code",
   "execution_count": 7,
   "metadata": {},
   "outputs": [
    {
     "name": "stdout",
     "output_type": "stream",
     "text": [
      "Valor de x: 17.2\n",
      "a: 29, b: 2\n",
      "Valores intercambiados -> a: 2, b: 29\n",
      "Asignación aumentada: 5\n"
     ]
    }
   ],
   "source": [
    "# Asignación simple\n",
    "x = 1.2 + 8 * 2\n",
    "print(f\"Valor de x: {x}\")\n",
    "\n",
    "# Asignación múltiple\n",
    "a, b = 29, 2\n",
    "print(f\"a: {a}, b: {b}\")\n",
    "\n",
    "# Intercambio de valores (swap)\n",
    "a, b = b, a\n",
    "print(f\"Valores intercambiados -> a: {a}, b: {b}\")\n",
    "\n",
    "# Asignación aumentada\n",
    "x = 2\n",
    "x += 3 # Equivalente a x = x + 3\n",
    "print(f\"Asignación aumentada: {x}\")"
   ]
  },
  {
   "cell_type": "markdown",
   "metadata": {},
   "source": [
    "## 4. Conversiones de Tipo (Conversions)"
   ]
  },
  {
   "cell_type": "code",
   "execution_count": 8,
   "metadata": {},
   "outputs": [
    {
     "name": "stdout",
     "output_type": "stream",
     "text": [
      "'15' a entero: 15\n",
      "'15.56' a flotante: 15.56\n",
      "0 a booleano: False\n",
      "1 a booleano: True\n",
      "64 a caracter: @\n",
      "64 a string: 64\n",
      "De lista de tuplas a diccionario: {'uno': 1, 'dos': 2}\n",
      "De string a lista: ['h', 'o', 'l', 'a']\n",
      "Lista por comprensión: [2, 4, 6, 8]\n"
     ]
    }
   ],
   "source": [
    "print(f\"'15' a entero: {int('15')}\")\n",
    "print(f\"'15.56' a flotante: {float('15.56')}\")\n",
    "print(f\"0 a booleano: {bool(0)}\")\n",
    "print(f\"1 a booleano: {bool(1)}\")\n",
    "print(f\"64 a caracter: {chr(64)}\") # @\n",
    "print(f\"64 a string: {str(64)}\")\n",
    "\n",
    "lista_de_tuplas = [('uno', 1), ('dos', 2)]\n",
    "diccionario_convertido = dict(lista_de_tuplas)\n",
    "print(f\"De lista de tuplas a diccionario: {diccionario_convertido}\")\n",
    "\n",
    "string_a_lista = list(\"hola\")\n",
    "print(f\"De string a lista: {string_a_lista}\")\n",
    "\n",
    "# Comprensión de listas\n",
    "lista_comprension = [i * 2 for i in range(1, 5)] # [2, 4, 6, 8]\n",
    "print(f\"Lista por comprensión: {lista_comprension}\")"
   ]
  },
  {
   "cell_type": "markdown",
   "metadata": {},
   "source": [
    "## 5. Indexación y Rebanado de Secuencias (Sequence Indexing/Slicing)"
   ]
  },
  {
   "cell_type": "code",
   "execution_count": 9,
   "metadata": {},
   "outputs": [
    {
     "name": "stdout",
     "output_type": "stream",
     "text": [
      "Lista: [10, 20, 30, 40, 50]\n",
      "Elemento en índice 0: 10\n",
      "Elemento en índice -1: 50\n",
      "Elemento en índice -2: 40\n",
      "De índice 1 a 3 (sin incluir 3): [20, 30]\n",
      "Desde el inicio hasta el índice 2 (sin incluir 2): [10, 20]\n",
      "Desde el índice 3 hasta el final: [40, 50]\n",
      "Toda la lista (copia superficial): [10, 20, 30, 40, 50]\n",
      "Cada segundo elemento: [10, 30, 50]\n",
      "Lista invertida: [50, 40, 30, 20, 10]\n",
      "Copia de la lista: [10, 20, 30, 40, 50]\n",
      "Lista modificada con rebanado: [10, 99, 98, 97, 50]\n"
     ]
    }
   ],
   "source": [
    "mi_lista = [10, 20, 30, 40, 50]\n",
    "print(f\"Lista: {mi_lista}\")\n",
    "\n",
    "# --- Indexación ---\n",
    "print(f\"Elemento en índice 0: {mi_lista[0]}\")   # Primer elemento\n",
    "print(f\"Elemento en índice -1: {mi_lista[-1]}\") # Último elemento\n",
    "print(f\"Elemento en índice -2: {mi_lista[-2]}\") # Penúltimo elemento\n",
    "\n",
    "# --- Rebanado (Slicing) [inicio:fin:paso] ---\n",
    "print(f\"De índice 1 a 3 (sin incluir 3): {mi_lista[1:3]}\") # [20, 30]\n",
    "print(f\"Desde el inicio hasta el índice 2 (sin incluir 2): {mi_lista[:2]}\") # [10, 20]\n",
    "print(f\"Desde el índice 3 hasta el final: {mi_lista[3:]}\") # [40, 50]\n",
    "print(f\"Toda la lista (copia superficial): {mi_lista[:]}\") # [10, 20, 30, 40, 50]\n",
    "print(f\"Cada segundo elemento: {mi_lista[::2]}\") # [10, 30, 50]\n",
    "print(f\"Lista invertida: {mi_lista[::-1]}\") # [50, 40, 30, 20, 10]\n",
    "\n",
    "# --- Modificación con rebanado ---\n",
    "copia_lista = mi_lista[:]\n",
    "print(f\"Copia de la lista: {copia_lista}\")\n",
    "copia_lista[1:4] = [99, 98, 97]\n",
    "print(f\"Lista modificada con rebanado: {copia_lista}\")"
   ]
  },
  {
   "cell_type": "markdown",
   "metadata": {},
   "source": [
    "## 6. Lógica Booleana y Declaraciones (Boolean Logic & Statements)"
   ]
  },
  {
   "cell_type": "code",
   "execution_count": 10,
   "metadata": {},
   "outputs": [
    {
     "name": "stdout",
     "output_type": "stream",
     "text": [
      "a and b: False\n",
      "a or b: True\n",
      "not a: False\n",
      "\n",
      "Evaluando la edad: 18\n",
      "Tiene exactamente 18 años.\n",
      "Status: Activo\n"
     ]
    }
   ],
   "source": [
    "# Operadores lógicos\n",
    "a = True\n",
    "b = False\n",
    "print(f\"a and b: {a and b}\") # Falso si al menos uno es falso\n",
    "print(f\"a or b: {a or b}\")   # Verdadero si al menos uno es verdadero\n",
    "print(f\"not a: {not a}\")     # Invierte el valor booleano\n",
    "\n",
    "# Condicional if/elif/else\n",
    "edad = 18\n",
    "print(f\"\\nEvaluando la edad: {edad}\")\n",
    "if edad < 18:\n",
    "    print(\"Es menor de edad.\")\n",
    "elif edad == 18:\n",
    "    print(\"Tiene exactamente 18 años.\")\n",
    "else:\n",
    "    print(\"Es mayor de edad.\")\n",
    "    \n",
    "# if en una línea (operador ternario)\n",
    "status = \"Activo\" if edad >= 18 else \"Inactivo\"\n",
    "print(f\"Status: {status}\")"
   ]
  },
  {
   "cell_type": "markdown",
   "metadata": {},
   "source": [
    "## 7. Módulos y Excepciones"
   ]
  },
  {
   "cell_type": "code",
   "execution_count": 11,
   "metadata": {},
   "outputs": [
    {
     "name": "stdout",
     "output_type": "stream",
     "text": [
      "El valor de Pi es: 3.141592653589793\n",
      "La raíz cuadrada de 16 es: 4.0\n",
      "El factorial de 5 es: 120\n",
      "\n",
      "--- Manejo de Excepciones ---\n",
      "Error: No se puede dividir por cero.\n",
      "Este bloque se ejecuta siempre, haya error o no.\n"
     ]
    }
   ],
   "source": [
    "# --- Módulos (Modules/Names Imports) ---\n",
    "import math\n",
    "print(f\"El valor de Pi es: {math.pi}\")\n",
    "\n",
    "from math import sqrt # Importar solo una función\n",
    "print(f\"La raíz cuadrada de 16 es: {sqrt(16)}\")\n",
    "\n",
    "from math import factorial as fact # Importar con un alias\n",
    "print(f\"El factorial de 5 es: {fact(5)}\")\n",
    "\n",
    "# --- Excepciones (Exceptions) ---\n",
    "print(\"\\n--- Manejo de Excepciones ---\")\n",
    "numerador = 10\n",
    "denominador = 0\n",
    "\n",
    "try:\n",
    "    resultado = numerador / denominador\n",
    "    print(f\"El resultado es {resultado}\")\n",
    "except ZeroDivisionError:\n",
    "    print(\"Error: No se puede dividir por cero.\")\n",
    "except TypeError:\n",
    "    print(\"Error: Tipos de datos incompatibles.\")\n",
    "finally:\n",
    "    print(\"Este bloque se ejecuta siempre, haya error o no.\")"
   ]
  },
  {
   "cell_type": "markdown",
   "metadata": {},
   "source": [
    "## 8. Bucles (Loops)"
   ]
  },
  {
   "cell_type": "code",
   "execution_count": 12,
   "metadata": {},
   "outputs": [
    {
     "name": "stdout",
     "output_type": "stream",
     "text": [
      "--- Bucle while ---\n",
      "Contador (while): 0\n",
      "Contador (while): 1\n",
      "Contador (while): 2\n",
      "Contador (while): 3\n",
      "Contador (while): 4\n",
      "\n",
      "--- Bucle for ---\n",
      "Fruta: manzana\n",
      "Fruta: banana\n",
      "Fruta: cereza\n",
      "\n",
      "--- break y continue ---\n",
      "Número: 0\n",
      "Número: 1\n",
      "Número: 2\n",
      "Número: 4\n",
      "Número: 5\n",
      "Número: 6\n"
     ]
    }
   ],
   "source": [
    "# --- Bucle while (Conditional Loop) ---\n",
    "print(\"--- Bucle while ---\")\n",
    "contador = 0\n",
    "while contador < 5:\n",
    "    print(f\"Contador (while): {contador}\")\n",
    "    contador += 1\n",
    "\n",
    "# --- Bucle for (Iterative Loop) ---\n",
    "print(\"\\n--- Bucle for ---\")\n",
    "mi_lista = [\"manzana\", \"banana\", \"cereza\"]\n",
    "for fruta in mi_lista:\n",
    "    print(f\"Fruta: {fruta}\")\n",
    "\n",
    "# --- Control de Bucles: break y continue ---\n",
    "print(\"\\n--- break y continue ---\")\n",
    "for i in range(10):\n",
    "    if i == 3:\n",
    "        continue # Salta a la siguiente iteración\n",
    "    if i == 7:\n",
    "        break # Termina el bucle completamente\n",
    "    print(f\"Número: {i}\")\n"
   ]
  },
  {
   "cell_type": "markdown",
   "metadata": {},
   "source": [
    "## 9. Entrada y Salida (Input & Display)"
   ]
  },
  {
   "cell_type": "code",
   "execution_count": 13,
   "metadata": {},
   "outputs": [
    {
     "name": "stdout",
     "output_type": "stream",
     "text": [
      "Hola---Mundo\n",
      "\n"
     ]
    }
   ],
   "source": [
    "# --- Salida con print() ---\n",
    "print(\"Hola\", \"Mundo\", sep=\"---\", end=\"\\n\\n\") # Separador y final de línea personalizados\n",
    "\n",
    "# --- Entrada con input() ---\n",
    "# La siguiente línea está comentada para permitir la ejecución completa del notebook.\n",
    "# Descoméntala para probarla.\n",
    "\n",
    "# nombre = input(\"¿Cuál es tu nombre? \")\n",
    "# print(f\"¡Hola, {nombre}!\")"
   ]
  },
  {
   "cell_type": "markdown",
   "metadata": {},
   "source": [
    "## 10. Operaciones con Contenedores"
   ]
  },
  {
   "cell_type": "code",
   "execution_count": 14,
   "metadata": {},
   "outputs": [
    {
     "name": "stdout",
     "output_type": "stream",
     "text": [
      "Lista: [1, 5, 2, 8, 3, 5]\n",
      "Longitud: 6\n",
      "Ordenada (nueva lista): [1, 2, 3, 5, 5, 8]\n",
      "Suma: 24\n",
      "Máximo: 8\n",
      "Mínimo: 1\n",
      "¿Está el 5 en la lista?: True\n",
      "¿Cuántas veces aparece el 5?: 2\n",
      "Índice de la primera aparición del 8: 3\n",
      "\n",
      "--- enumerate ---\n",
      "Índice 0, Valor 1\n",
      "Índice 1, Valor 5\n",
      "Índice 2, Valor 2\n",
      "Índice 3, Valor 8\n",
      "Índice 4, Valor 3\n",
      "Índice 5, Valor 5\n"
     ]
    }
   ],
   "source": [
    "numeros = [1, 5, 2, 8, 3, 5]\n",
    "print(f\"Lista: {numeros}\")\n",
    "print(f\"Longitud: {len(numeros)}\")\n",
    "print(f\"Ordenada (nueva lista): {sorted(numeros)}\")\n",
    "print(f\"Suma: {sum(numeros)}\")\n",
    "print(f\"Máximo: {max(numeros)}\")\n",
    "print(f\"Mínimo: {min(numeros)}\")\n",
    "print(f\"¿Está el 5 en la lista?: {5 in numeros}\")\n",
    "print(f\"¿Cuántas veces aparece el 5?: {numeros.count(5)}\")\n",
    "print(f\"Índice de la primera aparición del 8: {numeros.index(8)}\")\n",
    "\n",
    "# Usando enumerate para obtener índice y valor\n",
    "print(\"\\n--- enumerate ---\")\n",
    "for i, valor in enumerate(numeros):\n",
    "    print(f\"Índice {i}, Valor {valor}\")"
   ]
  },
  {
   "cell_type": "markdown",
   "metadata": {},
   "source": [
    "### 10.1 Operaciones Específicas de Listas"
   ]
  },
  {
   "cell_type": "code",
   "execution_count": 15,
   "metadata": {},
   "outputs": [
    {
     "name": "stdout",
     "output_type": "stream",
     "text": [
      "Lista inicial: ['manzana', 'banana']\n",
      "Después de append: ['manzana', 'banana', 'cereza']\n",
      "Después de insert: ['manzana', 'naranja', 'banana', 'cereza']\n",
      "Después de remove: ['manzana', 'naranja', 'cereza']\n",
      "Elemento quitado con pop: manzana\n",
      "Lista después de pop: ['naranja', 'cereza']\n",
      "Lista ordenada: ['cereza', 'naranja']\n",
      "Lista invertida: ['naranja', 'cereza']\n"
     ]
    }
   ],
   "source": [
    "frutas = [\"manzana\", \"banana\"]\n",
    "print(f\"Lista inicial: {frutas}\")\n",
    "\n",
    "frutas.append(\"cereza\") # Añade al final\n",
    "print(f\"Después de append: {frutas}\")\n",
    "\n",
    "frutas.insert(1, \"naranja\") # Inserta en una posición específica\n",
    "print(f\"Después de insert: {frutas}\")\n",
    "\n",
    "frutas.remove(\"banana\") # Elimina el primer elemento con ese valor\n",
    "print(f\"Después de remove: {frutas}\")\n",
    "\n",
    "elemento_quitado = frutas.pop(0) # Quita y devuelve el elemento en el índice 0\n",
    "print(f\"Elemento quitado con pop: {elemento_quitado}\")\n",
    "print(f\"Lista después de pop: {frutas}\")\n",
    "\n",
    "frutas.sort() # Ordena la lista original (in-place)\n",
    "print(f\"Lista ordenada: {frutas}\")\n",
    "\n",
    "frutas.reverse() # Invierte la lista original (in-place)\n",
    "print(f\"Lista invertida: {frutas}\")"
   ]
  },
  {
   "cell_type": "markdown",
   "metadata": {},
   "source": [
    "### 10.2 Operaciones Específicas de Diccionarios"
   ]
  },
  {
   "cell_type": "code",
   "execution_count": 16,
   "metadata": {},
   "outputs": [
    {
     "name": "stdout",
     "output_type": "stream",
     "text": [
      "Diccionario inicial: {'nombre': 'Israel', 'edad': 25, 'ciudad': 'CDMX'}\n",
      "Llaves: dict_keys(['nombre', 'edad', 'ciudad'])\n",
      "Valores: dict_values(['Israel', 25, 'CDMX'])\n",
      "Pares llave-valor: dict_items([('nombre', 'Israel'), ('edad', 25), ('ciudad', 'CDMX')])\n",
      "Profesión: No especificada\n",
      "Diccionario actualizado: {'nombre': 'Israel', 'edad': 26, 'ciudad': 'CDMX', 'profesion': 'Developer'}\n",
      "Edad eliminada: 26\n",
      "Diccionario final: {'nombre': 'Israel', 'profesion': 'Developer'}\n"
     ]
    }
   ],
   "source": [
    "usuario = {\"nombre\": \"Israel\", \"edad\": 25, \"ciudad\": \"CDMX\"}\n",
    "print(f\"Diccionario inicial: {usuario}\")\n",
    "\n",
    "print(f\"Llaves: {usuario.keys()}\")\n",
    "print(f\"Valores: {usuario.values()}\")\n",
    "print(f\"Pares llave-valor: {usuario.items()}\")\n",
    "\n",
    "# Obtener un valor de forma segura\n",
    "profesion = usuario.get(\"profesion\", \"No especificada\")\n",
    "print(f\"Profesión: {profesion}\")\n",
    "\n",
    "# Actualizar/Añadir\n",
    "usuario.update({\"profesion\": \"Developer\", \"edad\": 26})\n",
    "print(f\"Diccionario actualizado: {usuario}\")\n",
    "\n",
    "# Eliminar\n",
    "del usuario[\"ciudad\"]\n",
    "edad_eliminada = usuario.pop(\"edad\")\n",
    "print(f\"Edad eliminada: {edad_eliminada}\")\n",
    "print(f\"Diccionario final: {usuario}\")"
   ]
  },
  {
   "cell_type": "markdown",
   "metadata": {},
   "source": [
    "### 10.3 Operaciones Específicas de Conjuntos (Sets)"
   ]
  },
  {
   "cell_type": "code",
   "execution_count": 17,
   "metadata": {},
   "outputs": [
    {
     "name": "stdout",
     "output_type": "stream",
     "text": [
      "Set A: {1, 2, 3, 4}\n",
      "Set B: {3, 4, 5, 6}\n",
      "Unión (A | B): {1, 2, 3, 4, 5, 6}\n",
      "Intersección (A & B): {3, 4}\n",
      "Diferencia (A - B): {1, 2}\n",
      "Diferencia simétrica (A ^ B): {1, 2, 5, 6}\n",
      "Set A después de add(5): {1, 2, 3, 4, 5}\n",
      "Set B después de remove(6): {3, 4, 5}\n",
      "Set B después de discard(10): {3, 4, 5}\n"
     ]
    }
   ],
   "source": [
    "set_a = {1, 2, 3, 4}\n",
    "set_b = {3, 4, 5, 6}\n",
    "print(f\"Set A: {set_a}\")\n",
    "print(f\"Set B: {set_b}\")\n",
    "\n",
    "print(f\"Unión (A | B): {set_a | set_b}\")\n",
    "print(f\"Intersección (A & B): {set_a & set_b}\")\n",
    "print(f\"Diferencia (A - B): {set_a - set_b}\")\n",
    "print(f\"Diferencia simétrica (A ^ B): {set_a ^ set_b}\") # Elementos que no están en ambos\n",
    "\n",
    "set_a.add(5)\n",
    "print(f\"Set A después de add(5): {set_a}\")\n",
    "\n",
    "set_b.remove(6)\n",
    "print(f\"Set B después de remove(6): {set_b}\")\n",
    "\n",
    "set_b.discard(10) # No da error si el elemento no existe\n",
    "print(f\"Set B después de discard(10): {set_b}\")"
   ]
  },
  {
   "cell_type": "markdown",
   "metadata": {},
   "source": [
    "## 11. Funciones (Functions)"
   ]
  },
  {
   "cell_type": "code",
   "execution_count": 18,
   "metadata": {},
   "outputs": [
    {
     "name": "stdout",
     "output_type": "stream",
     "text": [
      "Argumentos posicionales extra (args): ('Extra1', 'Extra2')\n",
      "Argumentos de palabra clave extra (kwargs): {'tienda': 'Online', 'repartidor': 'Juan'}\n",
      "\n",
      "El total a pagar es: $104.40\n",
      "Argumentos posicionales extra (args): ()\n",
      "Argumentos de palabra clave extra (kwargs): {}\n",
      "El total simple a pagar es: $232.00\n"
     ]
    }
   ],
   "source": [
    "def calcular_total(precio, impuesto=0.16, descuento=0, *args, **kwargs):\n",
    "    \"\"\"Calcula el total de una compra con impuestos, descuentos y extras.\"\"\"\n",
    "    print(f\"Argumentos posicionales extra (args): {args}\")\n",
    "    print(f\"Argumentos de palabra clave extra (kwargs): {kwargs}\")\n",
    "    \n",
    "    subtotal = precio - (precio * descuento)\n",
    "    total = subtotal * (1 + impuesto)\n",
    "    return total\n",
    "\n",
    "# Llamada a la función\n",
    "total_a_pagar = calcular_total(100, 0.16, 0.1, \"Extra1\", \"Extra2\", tienda=\"Online\", repartidor=\"Juan\")\n",
    "print(f\"\\nEl total a pagar es: ${total_a_pagar:.2f}\")\n",
    "\n",
    "# Llamada solo con el argumento requerido\n",
    "total_simple = calcular_total(200)\n",
    "print(f\"El total simple a pagar es: ${total_simple:.2f}\")"
   ]
  },
  {
   "cell_type": "markdown",
   "metadata": {},
   "source": [
    "## 12. Operaciones con Cadenas (Strings)"
   ]
  },
  {
   "cell_type": "code",
   "execution_count": 19,
   "metadata": {},
   "outputs": [
    {
     "name": "stdout",
     "output_type": "stream",
     "text": [
      "Frase original: '  hola mundo, bienvenido al mundo de Python.  '\n",
      "Sin espacios al inicio/final: 'hola mundo, bienvenido al mundo de Python.'\n",
      "En mayúsculas: '  HOLA MUNDO, BIENVENIDO AL MUNDO DE PYTHON.  '\n",
      "Capitalizada: 'Hola mundo, bienvenido al mundo de python.'\n",
      "En formato título: 'Hola Mundo, Bienvenido Al Mundo De Python.'\n",
      "Reemplazar 'mundo' por 'universo': '  hola universo, bienvenido al universo de Python.  '\n",
      "¿Empieza con 'hola'?: True\n",
      "¿Termina con '.': True\n",
      "Separada en palabras: ['hola', 'mundo,', 'bienvenido', 'al', 'mundo', 'de', 'Python.']\n",
      "Palabras unidas por '---': hola---mundo,---bienvenido---al---mundo---de---Python.\n"
     ]
    }
   ],
   "source": [
    "frase = \"  hola mundo, bienvenido al mundo de Python.  \"\n",
    "print(f\"Frase original: '{frase}'\")\n",
    "\n",
    "print(f\"Sin espacios al inicio/final: '{frase.strip()}'\")\n",
    "print(f\"En mayúsculas: '{frase.upper()}'\")\n",
    "print(f\"Capitalizada: '{frase.strip().capitalize()}'\") # Solo la primera letra\n",
    "print(f\"En formato título: '{frase.strip().title()}'\") # Primera letra de cada palabra\n",
    "\n",
    "print(f\"Reemplazar 'mundo' por 'universo': '{frase.replace('mundo', 'universo')}'\")\n",
    "print(f\"¿Empieza con 'hola'?: {frase.strip().startswith('hola')}\")\n",
    "print(f\"¿Termina con '.': {frase.strip().endswith('.')}\")\n",
    "\n",
    "palabras = frase.strip().split(' ')\n",
    "print(f\"Separada en palabras: {palabras}\")\n",
    "\n",
    "frase_unida = \"---\".join(palabras)\n",
    "print(f\"Palabras unidas por '---': {frase_unida}\")"
   ]
  },
  {
   "cell_type": "markdown",
   "metadata": {},
   "source": [
    "## 13. Formateo de Cadenas (Formatting)"
   ]
  },
  {
   "cell_type": "code",
   "execution_count": 20,
   "metadata": {},
   "outputs": [
    {
     "name": "stdout",
     "output_type": "stream",
     "text": [
      "f-string: Hola, me llamo Israel y tengo 25 años. El valor de pi es 3.14.\n",
      "Método .format(): Hola, me llamo Israel y tengo 25 años. El valor de pi es 3.14.\n",
      "Operador %: Hola, me llamo Israel y tengo 25 años. El valor de pi es 3.14.\n"
     ]
    }
   ],
   "source": [
    "nombre = \"Israel\"\n",
    "edad = 25\n",
    "pi = 3.14159265\n",
    "\n",
    "# 1. f-strings (la forma moderna y recomendada)\n",
    "f_string = f\"Hola, me llamo {nombre} y tengo {edad} años. El valor de pi es {pi:.2f}.\"\n",
    "print(f\"f-string: {f_string}\")\n",
    "\n",
    "# 2. Método .format()\n",
    "format_string = \"Hola, me llamo {} y tengo {} años. El valor de pi es {:.2f}.\".format(nombre, edad, pi)\n",
    "print(f\"Método .format(): {format_string}\")\n",
    "\n",
    "# 3. Operador % (estilo antiguo, menos flexible)\n",
    "percent_string = \"Hola, me llamo %s y tengo %d años. El valor de pi es %.2f.\" % (nombre, edad, pi)\n",
    "print(f\"Operador %: {percent_string}\")"
   ]
  },
  {
   "cell_type": "markdown",
   "metadata": {},
   "source": [
    "## 14. Manejo de Archivos (Files)"
   ]
  },
  {
   "cell_type": "code",
   "execution_count": 21,
   "metadata": {},
   "outputs": [
    {
     "name": "stdout",
     "output_type": "stream",
     "text": [
      "Archivo 'mi_archivo_de_prueba.txt' escrito correctamente.\n",
      "\n",
      "--- Contenido completo del archivo ---\n",
      "Esta es la primera línea.\n",
      "Esta es la segunda línea.\n",
      "\n",
      "\n",
      "--- Leyendo el archivo línea por línea ---\n",
      "Esta es la primera línea.\n",
      "Esta es la segunda línea.\n",
      "\n",
      "Archivo 'mi_archivo_de_prueba.txt' eliminado.\n"
     ]
    }
   ],
   "source": [
    "nombre_archivo = \"mi_archivo_de_prueba.txt\"\n",
    "\n",
    "# Escribir en un archivo usando 'with' (cierra el archivo automáticamente)\n",
    "try:\n",
    "    with open(nombre_archivo, \"w\", encoding=\"utf-8\") as f:\n",
    "        f.write(\"Esta es la primera línea.\\n\")\n",
    "        f.write(\"Esta es la segunda línea.\\n\")\n",
    "    print(f\"Archivo '{nombre_archivo}' escrito correctamente.\")\n",
    "except Exception as e:\n",
    "    print(f\"Error al escribir el archivo: {e}\")\n",
    "\n",
    "# Leer el contenido completo de un archivo\n",
    "try:\n",
    "    with open(nombre_archivo, \"r\", encoding=\"utf-8\") as f:\n",
    "        contenido = f.read()\n",
    "        print(\"\\n--- Contenido completo del archivo ---\")\n",
    "        print(contenido)\n",
    "except FileNotFoundError:\n",
    "    print(f\"Error: El archivo '{nombre_archivo}' no fue encontrado.\")\n",
    "except Exception as e:\n",
    "    print(f\"Error al leer el archivo: {e}\")\n",
    "\n",
    "# Leer un archivo línea por línea\n",
    "try:\n",
    "    with open(nombre_archivo, \"r\", encoding=\"utf-8\") as f:\n",
    "        print(\"\\n--- Leyendo el archivo línea por línea ---\")\n",
    "        for linea in f:\n",
    "            print(linea.strip()) # .strip() para quitar el salto de línea final\n",
    "except Exception as e:\n",
    "    print(f\"Error al leer el archivo línea por línea: {e}\")\n",
    "\n",
    "# Limpieza: eliminar el archivo creado (opcional)\n",
    "import os\n",
    "if os.path.exists(nombre_archivo):\n",
    "    os.remove(nombre_archivo)\n",
    "    print(f\"\\nArchivo '{nombre_archivo}' eliminado.\")"
   ]
  }
 ],
 "metadata": {
  "kernelspec": {
   "display_name": "ecom",
   "language": "python",
   "name": "python3"
  },
  "language_info": {
   "codemirror_mode": {
    "name": "ipython",
    "version": 3
   },
   "file_extension": ".py",
   "mimetype": "text/x-python",
   "name": "python",
   "nbconvert_exporter": "python",
   "pygments_lexer": "ipython3",
   "version": "3.13.7"
  }
 },
 "nbformat": 4,
 "nbformat_minor": 4
}
